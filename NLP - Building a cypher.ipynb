{
 "cells": [
  {
   "cell_type": "markdown",
   "metadata": {
    "toc": true
   },
   "source": [
    "<h1>Table of Contents<span class=\"tocSkip\"></span></h1>\n",
    "<div class=\"toc\"><ul class=\"toc-item\"><li><span><a href=\"#Introduction\" data-toc-modified-id=\"Introduction-1\"><span class=\"toc-item-num\">1&nbsp;&nbsp;</span>Introduction</a></span></li><li><span><a href=\"#Step1:-Create-the-substitution-cypher\" data-toc-modified-id=\"Step1:-Create-the-substitution-cypher-2\"><span class=\"toc-item-num\">2&nbsp;&nbsp;</span>Step1: Create the substitution cypher</a></span></li><li><span><a href=\"#Step-2:-Download-the-data-to-train-the-model\" data-toc-modified-id=\"Step-2:-Download-the-data-to-train-the-model-3\"><span class=\"toc-item-num\">3&nbsp;&nbsp;</span>Step 2: Download the data to train the model</a></span></li><li><span><a href=\"#Step-3:-Set-up-an-encoding-and-decoding-function\" data-toc-modified-id=\"Step-3:-Set-up-an-encoding-and-decoding-function-4\"><span class=\"toc-item-num\">4&nbsp;&nbsp;</span>Step 3: Set up an encoding and decoding function</a></span></li><li><span><a href=\"#Step-4:-run-an-evolutionary-algorithm-to-decode-the-message\" data-toc-modified-id=\"Step-4:-run-an-evolutionary-algorithm-to-decode-the-message-5\"><span class=\"toc-item-num\">5&nbsp;&nbsp;</span>Step 4: run an evolutionary algorithm to decode the message</a></span></li><li><span><a href=\"#Step-5:-look-at-the-results\" data-toc-modified-id=\"Step-5:-look-at-the-results-6\"><span class=\"toc-item-num\">6&nbsp;&nbsp;</span>Step 5: look at the results</a></span></li></ul></div>"
   ]
  },
  {
   "cell_type": "markdown",
   "metadata": {},
   "source": [
    "### Introduction ###"
   ]
  },
  {
   "cell_type": "markdown",
   "metadata": {},
   "source": [
    "In this notebook I have coded alongside a section for building a cypher from Udemy's course presented by the Lazy Programmer entitled 'Data Science: Natural Language Programming in Python.' The section explores the use of an evolutionary algorithm to predict an encoded message. I start by creating a substitution cypher before building a language model based on the Markov matrix. I then download data to train the model, before setting up an encoding and decoding function. Lastly I build the evolutionary algorithm and then run it to see the results and how well it predicts the true text."
   ]
  },
  {
   "cell_type": "code",
   "execution_count": 1,
   "metadata": {},
   "outputs": [],
   "source": [
    "#Import the libraries needed\n",
    "import pandas as pd\n",
    "import numpy as np\n",
    "import matplotlib.pyplot as plt\n",
    "import bamboolib as bam\n",
    "\n",
    "import random #for shuffling characters\n",
    "import re #for regex operations\n",
    "import requests #to request the Moby Dick text file\n",
    "import os\n",
    "import textwrap\n",
    "import string #for manipulating string and ASCII characters"
   ]
  },
  {
   "cell_type": "markdown",
   "metadata": {},
   "source": [
    "### Step1: Create the substitution cypher ###"
   ]
  },
  {
   "cell_type": "markdown",
   "metadata": {},
   "source": [
    "The first step is to create a cypher. We develop two lists of letters of the alphabet - one the key, one the values. For the values we randomly shuffle the order. The keys and values are then mapped to an empty disctionary."
   ]
  },
  {
   "cell_type": "code",
   "execution_count": 2,
   "metadata": {},
   "outputs": [],
   "source": [
    "# create the cypher where one list of 26 lowercase letters is the key, the other the values\n",
    "letters1 =list(string.ascii_lowercase)\n",
    "letters2 =list(string.ascii_lowercase)\n",
    "\n",
    "# Inititialise an empty dictionary called true mapping, and then work to populate this dictionary. When populated, this is the substition cypher\n",
    "true_mapping={}\n",
    "\n",
    "# Randomise the second lsit of letters\n",
    "random.shuffle(letters2)\n",
    "\n",
    "# Loop through both lists in corresponding order to populate the list\n",
    "for k,v in zip(letters1, letters2):\n",
    "    true_mapping[k]=v\n"
   ]
  },
  {
   "cell_type": "markdown",
   "metadata": {},
   "source": [
    "Then we build the language model. A Markov matrix is developed to stort all the bigram possibilities. As there are 26 starting and ending letters we need a 26x26 matrix. We also need a vector to store all the unigram possibilities - this will be the initial state distribution accounting for each individual letter. Functions are then required to update pi and M. For M, the Markov matrix, the function call two variable ch1 and ch2 - the starting and ending characters. We also need to convert the characters to integers using the ord command.<br>\n",
    "The second function to be built is for the initial state distribution. The third function to be built calculates the log probability for a single word. The function takes a single argument to consider the probability of the first letter for a unigram which is then converted to a log probability. Then we loop through the rest of the characters in the word to work out the log probability. The final function finds the probablity of an entire sequence of words"
   ]
  },
  {
   "cell_type": "code",
   "execution_count": 3,
   "metadata": {},
   "outputs": [],
   "source": [
    "# Initialise the Markov matrix\n",
    "M = np.ones((26,26))\n",
    "\n",
    "# initial state distribution\n",
    "pi = np.zeros(26)\n",
    "\n",
    "# build a function to update the Markov matrix\n",
    "def update_transition (ch1,ch2):\n",
    "    \n",
    "    # ord ('a') = 97, ord ('b') = 98 etc\n",
    "    i = ord(ch1) - 97\n",
    "    j = ord(ch2) - 97\n",
    "    M[i,j] += 1\n",
    "    \n",
    "# build a function for the initial state distribution\n",
    "def update_pi(ch):\n",
    "    i = ord(ch) - 97\n",
    "    pi[i] += 1\n",
    "\n",
    "# build a function to get the log probability of a single word\n",
    "def get_word_prob(word):\n",
    "    #print ('words:', word)\n",
    "    i = ord(word[0]) - 97\n",
    "    logp =np.log(pi[i])\n",
    "    \n",
    "    for ch in word[1:]:\n",
    "        j = ord(ch) - 97\n",
    "        logp += np.log(M[i, j]) # update probability\n",
    "        i = j # update j\n",
    "    return logp\n",
    "\n",
    "# get the probability for a sequence of words\n",
    "def get_sequence_prob(words):\n",
    "    # if the input is a string, break up sequence as an array of tokens\n",
    "    if type(words) == str:\n",
    "        words=words.split()\n",
    "        \n",
    "    logp = 0\n",
    "    for word in words:\n",
    "        logp += get_word_prob(word)\n",
    "    return logp"
   ]
  },
  {
   "cell_type": "markdown",
   "metadata": {},
   "source": [
    "### Step 2: Download the data to train the model ###"
   ]
  },
  {
   "cell_type": "markdown",
   "metadata": {},
   "source": [
    "Here we request the .txt and then write it to a file. And then populate bigram and unigram strutures. We start by using regex to remove non-alpha characters and then use a loop to read in the Moby Dick file line by line, making sure that only lines with words in them appear. Then we lower case all letters in the line and call the split function to get individual words, before looping through each token one by one where we call the functions defined above. And then converting to true probabilities."
   ]
  },
  {
   "cell_type": "code",
   "execution_count": 4,
   "metadata": {},
   "outputs": [],
   "source": [
    "# Check there if there is a file called 'Moby Dick. txt' and if not, download it\n",
    "if not os.path.exists('moby_dick_txt'):\n",
    "    print ('Downloading moby dick...')\n",
    "    r=requests.get ('https://lazyprogrammer.me/course_files/moby_dick.txt')\n",
    "    with open('moby_dick_txt', 'w') as f:\n",
    "        f.write(r.content.decode())"
   ]
  },
  {
   "cell_type": "code",
   "execution_count": 5,
   "metadata": {},
   "outputs": [],
   "source": [
    "# Set up a regex to remove any non alpha characters\n",
    "regex=re.compile('[^a-zA-Z]')\n",
    "\n",
    "# Then load in the words and remove any white space using rstrip\n",
    "for line in open('moby_dick_txt'):\n",
    "    line=line.rstrip()\n",
    "    \n",
    "    # Check for blank lines\n",
    "    if line:\n",
    "        line=regex.sub(' ', line) # replace all non alpha characters with white space\n",
    "        \n",
    "        # split tokens in the line and into lowercase\n",
    "        tokens=line.lower().split()\n",
    "        \n",
    "        for token in tokens: # Update the model\n",
    "            ch0=token[0] # for the first letter\n",
    "            update_pi(ch0)\n",
    "            \n",
    "            # for other letters\n",
    "            for ch1 in token[1:]:\n",
    "                update_transition(ch0, ch1)\n",
    "        \n",
    "# normalise the probabilities\n",
    "pi /= pi.sum()\n",
    "M /= M.sum(axis=1, keepdims=True)"
   ]
  },
  {
   "cell_type": "markdown",
   "metadata": {},
   "source": [
    "### Step 3: Set up an encoding and decoding function ### "
   ]
  },
  {
   "cell_type": "markdown",
   "metadata": {},
   "source": [
    "Start by selecting a piece of text to encode. ### encode a message. This is a piece of text from Project Gutenburg's 'The Adventures of Sherlock Holmes', by Arthur Conan Doyle. https://www.gutenberg.org/ebooks/1661. Then set up a function to encode the message that converts case to lower. This is followed by creating the encoded message as an empty list, which is iterated over one character at a time before returning the coded message as a file string. Next we set up a decode function that takes two arguments - a cipher text message and a word map. Similarly we create an empty dictionary and the loop through each character before returning the message as a file string."
   ]
  },
  {
   "cell_type": "code",
   "execution_count": 6,
   "metadata": {},
   "outputs": [],
   "source": [
    "# Message to encode\n",
    "\n",
    "### encode a message\n",
    "\n",
    "# this is a random excerpt from Project Gutenberg's\n",
    "# The Adventures of Sherlock Holmes, by Arthur Conan Doyle\n",
    "# https://www.gutenberg.org/ebooks/1661\n",
    "\n",
    "original_message = '''I then lounged down the street and found,\n",
    "as I expected, that there was a mews in a lane which runs down\n",
    "by one wall of the garden. I lent the ostlers a hand in rubbing\n",
    "down their horses, and received in exchange twopence, a glass of\n",
    "half-and-half, two fills of shag tobacco, and as much information\n",
    "as I could desire about Miss Adler, to say nothing of half a dozen\n",
    "other people in the neighbourhood in whom I was not in the least\n",
    "interested, but whose biographies I was compelled to listen to.\n",
    "'''\n",
    "\n",
    "# Away they went, and I was just wondering whether I should not do well\n",
    "# to follow them when up the lane came a neat little landau, the coachman\n",
    "# with his coat only half-buttoned, and his tie under his ear, while all\n",
    "# the tags of his harness were sticking out of the buckles. It hadn't\n",
    "# pulled up before she shot out of the hall door and into it. I only\n",
    "# caught a glimpse of her at the moment, but she was a lovely woman, with\n",
    "# a face that a man might die for.\n",
    "\n",
    "# My cabby drove fast. I don't think I ever drove faster, but the others\n",
    "# were there before us. The cab and the landau with their steaming horses\n",
    "# were in front of the door when I arrived. I paid the man and hurried\n",
    "# into the church. There was not a soul there save the two whom I had\n",
    "# followed and a surpliced clergyman, who seemed to be expostulating with\n",
    "# them. They were all three standing in a knot in front of the altar. I\n",
    "# lounged up the side aisle like any other idler who has dropped into a\n",
    "# church. Suddenly, to my surprise, the three at the altar faced round to\n",
    "# me, and Godfrey Norton came running as hard as he could towards me.\n",
    "\n",
    "# Use the encoding function to encode a message using the cipher\n",
    "\n",
    "def encode_message(msg):\n",
    "    msg=msg.lower()\n",
    "    msg=regex.sub(' ', msg)\n",
    "    \n",
    "    # Create a loop to build up the coded message\n",
    "    \n",
    "    coded_msg=[]\n",
    "    for ch in msg:\n",
    "        coded_ch=ch\n",
    "        if ch in true_mapping:\n",
    "            coded_ch=true_mapping[ch]\n",
    "        coded_msg.append(coded_ch)\n",
    "    \n",
    "    return''.join(coded_msg)\n",
    "\n",
    "# Set up a function to decode a message\n",
    "\n",
    "encoded_message=encode_message(original_message)\n",
    "\n",
    "def decode_message(msg, word_map):\n",
    "    decoded_msg=[]\n",
    "    for ch in msg:\n",
    "        decoded_ch=ch\n",
    "        if ch in word_map:\n",
    "            decoded_ch=word_map[ch]\n",
    "        decoded_msg.append(decoded_ch)\n",
    "    \n",
    "    return''.join(decoded_msg)\n",
    "    \n",
    "\n",
    "\n",
    "# Use the decoding function to test guesses\n"
   ]
  },
  {
   "cell_type": "markdown",
   "metadata": {},
   "source": [
    "### Step 4: run an evolutionary algorithm to decode the message ###"
   ]
  },
  {
   "cell_type": "markdown",
   "metadata": {},
   "source": [
    "To initiatlise the alogrithm we need to create a dna pool containing 20 dna strings. We create an empty list and then loop 20 times to create 20 random dna strings of characters. Then shuffle it to create a random mapping before appending it to the dna pool. Next we create a function to evolve offspring that contains two arguments, the dna pool and the number of children each will create. The outer loop will loop through each parent, and the inner loop will loop through the children need to create. To create a child, we copy the dna and then randomly swop the characters at positions j and k before making the switch. When finished we append the offspring list to the parent list to return that as the final population."
   ]
  },
  {
   "cell_type": "code",
   "execution_count": 7,
   "metadata": {},
   "outputs": [],
   "source": [
    "# initialise the dna pool\n",
    "dna_pool =[]\n",
    "for _ in range(20):\n",
    "    dna=list(string.ascii_lowercase)\n",
    "    random.shuffle(dna)\n",
    "    dna_pool.append(dna)\n",
    "\n",
    "# Create a function to evolve offspring\n",
    "def evolve_offspring (dna_pool, n_children):\n",
    "    offspring=[]\n",
    "    \n",
    "    for dna in dna_pool:\n",
    "        for _ in range(n_children):\n",
    "            copy = dna.copy()\n",
    "            j=np.random.randint(len(copy))\n",
    "            k=np.random.randint(len(copy))\n",
    "            \n",
    "            # switch\n",
    "            tmp=copy[j]\n",
    "            copy[j]=copy[k]\n",
    "            copy[k]=tmp\n",
    "            offspring.append(copy)\n",
    "            \n",
    "    return offspring + dna_pool"
   ]
  },
  {
   "cell_type": "markdown",
   "metadata": {},
   "source": [
    "Now we can build the engine to run the algorithm. We set the parameters of the number of iterations and set variables of things we are interested in. Then we calculate the score for each dna string by creating an empty dictionary where the key is the dna string, and the value is its score, and we populate a map. We call the decoded message function, using the encoded message against the current map, and then use the get sequence probability function to score the likelihood of the coded message. Thereafter we score the score in dna2score. If it is, then we assign all the values to be the current values. Outside of this loop we can calculate the average score of population, and store in the array of scores. As we want to keep the most fit individuals (survival of the fittest), we use the sorted function to sort the results and produce a tuple that shows the dna string and its score. Lastly is a debug step that every few iterations prints out the iteration, score, and best score so far."
   ]
  },
  {
   "cell_type": "code",
   "execution_count": 8,
   "metadata": {},
   "outputs": [
    {
     "name": "stdout",
     "output_type": "stream",
     "text": [
      "iter: 0 score: -1668.3919762040591 best so far: -1453.4499421466649\n",
      "iter: 200 score: -1101.0651727503323 best so far: -1077.20443926904\n",
      "iter: 400 score: -1114.885581680003 best so far: -1077.20443926904\n",
      "iter: 600 score: -1126.5724413318603 best so far: -1077.20443926904\n",
      "iter: 800 score: -1136.494116294202 best so far: -1077.20443926904\n"
     ]
    }
   ],
   "source": [
    "num_iters = 1000 # No. of generations of offspring to evolve\n",
    "scores=np.zeros(num_iters) # This stores the score of each iteration of the loop.\n",
    "best_dna= None # to keep track of the best dna, best map, and best score\n",
    "best_map = None\n",
    "best_score = float('-inf')\n",
    "for i in range(num_iters):\n",
    "    if i > 0: # i.e. if not the first iteration\n",
    "       # get offspring from the current dna pool\n",
    "        dna_pool = evolve_offspring(dna_pool, 3)\n",
    "\n",
    "# calculate the score for each dna string\n",
    "    dna2score={}\n",
    "    for dna in dna_pool:\n",
    "    # populate the map\n",
    "        current_map={}\n",
    "        for k, v in zip(letters1, dna):\n",
    "            current_map[k] = v\n",
    "    \n",
    "        decoded_message=decode_message(encoded_message, current_map)\n",
    "        score=get_sequence_prob(decoded_message)\n",
    "    \n",
    "        #store the score\n",
    "        dna2score[''.join(dna)] = score\n",
    "    \n",
    "        # record the best score so far\n",
    "        if score > best_score:\n",
    "            best_dna = dna\n",
    "            best_map = current_map\n",
    "            best_score = score\n",
    "            \n",
    "    # average score for this generation\n",
    "    scores[i] = np.mean(list(dna2score.values()))\n",
    "                    \n",
    "    # keep the best 5 dna scores\n",
    "    sorted_dna = sorted(dna2score.items(), key=lambda x: x[1], reverse=True)\n",
    "    dna_pool = [list(k) for k,v in sorted_dna[:5]]\n",
    "                    \n",
    "    if i % 200 ==0:\n",
    "        print (\"iter:\", i, \"score:\", scores[i], \"best so far:\", best_score)"
   ]
  },
  {
   "cell_type": "markdown",
   "metadata": {},
   "source": [
    "### Step 5: look at the results ###"
   ]
  },
  {
   "cell_type": "markdown",
   "metadata": {},
   "source": [
    "Start by printing out the log likelihood of the decoded message along with the log likelihood of the true message. We also want to see which letters we got wrong by looping through the true mapping. In the loop, 'pred' is the value in the reverse mapping whilst 'true' is the key in the true mapping. If true is not equal to pred, then print out both letters."
   ]
  },
  {
   "cell_type": "code",
   "execution_count": 9,
   "metadata": {},
   "outputs": [
    {
     "name": "stdout",
     "output_type": "stream",
     "text": [
      "log-likelihood of decoded message:  -1077.20443926904\n",
      "log-likelihood of true message:  -1070.3003147401457\n",
      "true: a, pred: o\n",
      "true: b, pred: p\n",
      "true: d, pred: t\n",
      "true: f, pred: g\n",
      "true: g, pred: w\n",
      "true: h, pred: d\n",
      "true: j, pred: z\n",
      "true: k, pred: q\n",
      "true: o, pred: s\n",
      "true: p, pred: b\n",
      "true: q, pred: j\n",
      "true: r, pred: y\n",
      "true: s, pred: r\n",
      "true: t, pred: a\n",
      "true: w, pred: h\n",
      "true: y, pred: f\n",
      "true: z, pred: k\n"
     ]
    }
   ],
   "source": [
    "decoded_message=decode_message(encoded_message, best_map)\n",
    "\n",
    "print ('log-likelihood of decoded message: ', get_sequence_prob(decoded_message))\n",
    "print('log-likelihood of true message: ', get_sequence_prob(regex.sub(' ', original_message.lower())))\n",
    "\n",
    "# Which letters got wrong\n",
    "for true, v in true_mapping.items():\n",
    "    pred = best_map[v]\n",
    "    if true != pred:\n",
    "        print('true: %s, pred: %s' %(true, pred))\n",
    "        "
   ]
  },
  {
   "cell_type": "markdown",
   "metadata": {},
   "source": [
    "In the printout from above we can see that the decoded message has a higher log likelihood that the log likelihood of the true message, and that there are a number of letters that are wrong. This will change when the algorithm runs again because of the randomness in its nature. If the true model has a lower likelihood then the assumptions of the Markov model and bigrams might be too restrictive."
   ]
  },
  {
   "cell_type": "code",
   "execution_count": 10,
   "metadata": {},
   "outputs": [
    {
     "name": "stdout",
     "output_type": "stream",
     "text": [
      "Decoded message:\n",
      " i aden lsunwet tshn ade rayeea ont gsunt  or i exbecaet  adoa adeye\n",
      "hor o mehr in o lone hdicd yunr tshn pf sne holl sg ade woyten  i lena\n",
      "ade sraleyr o dont in yuppinw tshn adeiy dsyrer  ont yeceivet in\n",
      "excdonwe ahsbence  o wlorr sg dolg ont dolg  ahs gillr sg rdow aspoccs\n",
      "ont or mucd ingsymoaisn or i csult teriye opsua mirr otley  as rof\n",
      "nsadinw sg dolg o tsken sadey besble in ade neiwdpsuydsst in hdsm i\n",
      "hor nsa in ade leora inaeyeraet  pua hdsre piswyobdier i hor csmbellet\n",
      "as liraen as\n",
      "\n",
      "True message:\n",
      " I then lounged down the street and found,\n",
      "as I expected, that there was a mews in a lane which runs down\n",
      "by one wall of the garden. I lent the ostlers a hand in rubbing\n",
      "down their horses, and received in exchange twopence, a glass of\n",
      "half-and-half, two fills of shag tobacco, and as much information\n",
      "as I could desire about Miss Adler, to say nothing of half a dozen\n",
      "other people in the neighbourhood in whom I was not in the least\n",
      "interested, but whose biographies I was compelled to listen to.\n",
      "\n"
     ]
    }
   ],
   "source": [
    "print('Decoded message:\\n', textwrap.fill(decoded_message))\n",
    "print('\\nTrue message:\\n', original_message)"
   ]
  },
  {
   "cell_type": "markdown",
   "metadata": {},
   "source": [
    "By plotting the objective with every iteration we can see it goes up fast and then evens out with further iterations as behaviour converges - this is usually seen with such algorithms, and a good way to check whether the algorithm is working."
   ]
  },
  {
   "cell_type": "code",
   "execution_count": 11,
   "metadata": {},
   "outputs": [
    {
     "data": {
      "image/png": "[encoded data removed]",
      "text/plain": [
       "<Figure size 432x288 with 1 Axes>"
      ]
     },
     "metadata": {
      "needs_background": "light"
     },
     "output_type": "display_data"
    }
   ],
   "source": [
    "plt.plot(scores)\n",
    "plt.show;"
   ]
  }
 ],
 "metadata": {
  "kernelspec": {
   "display_name": "Python 3",
   "language": "python",
   "name": "python3"
  },
  "language_info": {
   "codemirror_mode": {
    "name": "ipython",
    "version": 3
   },
   "file_extension": ".py",
   "mimetype": "text/x-python",
   "name": "python",
   "nbconvert_exporter": "python",
   "pygments_lexer": "ipython3",
   "version": "3.7.4"
  },
  "toc": {
   "base_numbering": 1,
   "nav_menu": {},
   "number_sections": true,
   "sideBar": true,
   "skip_h1_title": true,
   "title_cell": "Table of Contents",
   "title_sidebar": "Contents",
   "toc_cell": true,
   "toc_position": {},
   "toc_section_display": true,
   "toc_window_display": false
  }
 },
 "nbformat": 4,
 "nbformat_minor": 4
}
